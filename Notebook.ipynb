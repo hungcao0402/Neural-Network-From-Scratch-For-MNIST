{
  "nbformat": 4,
  "nbformat_minor": 0,
  "metadata": {
    "colab": {
      "name": "Hùng.ipynb",
      "provenance": [],
      "collapsed_sections": [],
      "toc_visible": true,
      "include_colab_link": true
    },
    "kernelspec": {
      "name": "python3",
      "display_name": "Python 3"
    },
    "language_info": {
      "name": "python"
    }
  },
  "cells": [
    {
      "cell_type": "markdown",
      "metadata": {
        "id": "view-in-github",
        "colab_type": "text"
      },
      "source": [
        "<a href=\"https://colab.research.google.com/github/hungcao0402/Neural-Network-From-Scratch-For-MNIST/blob/main/Notebook.ipynb\" target=\"_parent\"><img src=\"https://colab.research.google.com/assets/colab-badge.svg\" alt=\"Open In Colab\"/></a>"
      ]
    },
    {
      "cell_type": "code",
      "source": [
        "from tensorflow import keras\n",
        "import matplotlib.cm as cm \n",
        "import matplotlib.pyplot as plt\n",
        "import numpy as np\n",
        "from keras.utils import np_utils\n",
        "from sklearn.metrics import classification_report, confusion_matrix\n"
      ],
      "metadata": {
        "id": "H_PDuW-bb3fg"
      },
      "execution_count": 1,
      "outputs": []
    },
    {
      "cell_type": "code",
      "source": [
        "(x_train, y_train), (x_test, y_test) = keras.datasets.mnist.load_data()"
      ],
      "metadata": {
        "id": "zLVlM5-3bzdh",
        "outputId": "fddf5688-2a27-49ad-d3b0-04c142bc7837",
        "colab": {
          "base_uri": "https://localhost:8080/"
        }
      },
      "execution_count": 2,
      "outputs": [
        {
          "output_type": "stream",
          "name": "stdout",
          "text": [
            "Downloading data from https://storage.googleapis.com/tensorflow/tf-keras-datasets/mnist.npz\n",
            "11493376/11490434 [==============================] - 0s 0us/step\n",
            "11501568/11490434 [==============================] - 0s 0us/step\n"
          ]
        }
      ]
    },
    {
      "cell_type": "markdown",
      "source": [
        "#Analyse the data"
      ],
      "metadata": {
        "id": "LlbV89oC6Y4m"
      }
    },
    {
      "cell_type": "code",
      "source": [
        "index=12;\n",
        "plt.title((y_train[index]))\n",
        "plt.imshow(x_train[index].reshape(28,28), cmap=cm.binary)"
      ],
      "metadata": {
        "colab": {
          "base_uri": "https://localhost:8080/",
          "height": 298
        },
        "id": "z7q6sTcEcKmL",
        "outputId": "093d6bf4-eba7-4667-b19f-981cf3649780"
      },
      "execution_count": 3,
      "outputs": [
        {
          "output_type": "execute_result",
          "data": {
            "text/plain": [
              "<matplotlib.image.AxesImage at 0x7f145eedf290>"
            ]
          },
          "metadata": {},
          "execution_count": 3
        },
        {
          "output_type": "display_data",
          "data": {
            "image/png": "[encoded data removed]",
            "text/plain": [
              "<Figure size 432x288 with 1 Axes>"
            ]
          },
          "metadata": {
            "needs_background": "light"
          }
        }
      ]
    },
    {
      "cell_type": "code",
      "source": [
        "print(\"train data\")\n",
        "y_value=np.zeros((1,10))\n",
        "for i in range (10):\n",
        "    print(\"occurance of \",i,\"=\",np.count_nonzero(y_train==i))\n",
        "    y_value[0,i]= np.count_nonzero(y_train==i)"
      ],
      "metadata": {
        "colab": {
          "base_uri": "https://localhost:8080/"
        },
        "id": "FDX7GOtcchll",
        "outputId": "2c7ba3c5-fab5-4da2-ceea-2e5c59be3637"
      },
      "execution_count": 4,
      "outputs": [
        {
          "output_type": "stream",
          "name": "stdout",
          "text": [
            "train data\n",
            "occurance of  0 = 5923\n",
            "occurance of  1 = 6742\n",
            "occurance of  2 = 5958\n",
            "occurance of  3 = 6131\n",
            "occurance of  4 = 5842\n",
            "occurance of  5 = 5421\n",
            "occurance of  6 = 5918\n",
            "occurance of  7 = 6265\n",
            "occurance of  8 = 5851\n",
            "occurance of  9 = 5949\n"
          ]
        }
      ]
    },
    {
      "cell_type": "code",
      "source": [
        "y_value=y_value.ravel()\n",
        "x_value=[0,1,2,3,4,5,6,7,8,9]\n",
        "plt.xlabel('label')\n",
        "plt.ylabel('count')\n",
        "plt.bar(x_value,y_value,0.7,color='g')"
      ],
      "metadata": {
        "colab": {
          "base_uri": "https://localhost:8080/",
          "height": 298
        },
        "id": "udi94Bbwc6KK",
        "outputId": "69288ea3-6c13-4b4a-8bb4-bf06c055c8cd"
      },
      "execution_count": 5,
      "outputs": [
        {
          "output_type": "execute_result",
          "data": {
            "text/plain": [
              "<BarContainer object of 10 artists>"
            ]
          },
          "metadata": {},
          "execution_count": 5
        },
        {
          "output_type": "display_data",
          "data": {
            "image/png": "[encoded data removed]",
            "text/plain": [
              "<Figure size 432x288 with 1 Axes>"
            ]
          },
          "metadata": {
            "needs_background": "light"
          }
        }
      ]
    },
    {
      "cell_type": "markdown",
      "source": [
        "#Model From Scratch"
      ],
      "metadata": {
        "id": "wx5z7CBDayKl"
      }
    },
    {
      "cell_type": "markdown",
      "source": [
        "#Activation Function"
      ],
      "metadata": {
        "id": "b0e1_ZMo6uiC"
      }
    },
    {
      "cell_type": "code",
      "source": [
        "import numpy as np\n",
        "\n",
        "def sigmoid(Z):\n",
        "    A = 1/(1+np.exp(-Z))\n",
        "    cache = Z\n",
        "    return A, cache\n",
        "\n",
        "def relu(Z):\n",
        "    A = np.maximum(0,Z)\n",
        "    cache = Z \n",
        "    return A, cache\n",
        "\n",
        "def softmax(Z):\n",
        "    cache = Z\n",
        "    e_Z = np.exp(Z)\n",
        "    s = e_Z / e_Z.sum(axis = 0)\n",
        "    return s, cache\n",
        "\n",
        "def relu_backward(dA, cache):   \n",
        "    Z = cache\n",
        "    dZ = np.array(dA, copy=True) # just converting dz to a correct object.\n",
        "    dZ[Z <= 0] = 0\n",
        "    return dZ\n",
        "\n",
        "def sigmoid_backward(dA, cache):   \n",
        "    Z = cache\n",
        "    s = 1/(1+np.exp(-Z))\n",
        "    dZ = dA * s * (1-s)\n",
        "    return dZ\n",
        "\n"
      ],
      "metadata": {
        "id": "cDzi3axExg65"
      },
      "execution_count": 6,
      "outputs": []
    },
    {
      "cell_type": "markdown",
      "source": [
        "#Initializaion"
      ],
      "metadata": {
        "id": "EGawv69T62oQ"
      }
    },
    {
      "cell_type": "code",
      "source": [
        "def initialize_parameters_deep(layer_dims):\n",
        "    np.random.seed(1)\n",
        "    parameters = {}\n",
        "    L = len(layer_dims)\n",
        "\n",
        "    for l in range(1,L):\n",
        "        parameters['W'+str(l)] = np.random.randn(layer_dims[l],layer_dims[l-1]) * 0.01\n",
        "        parameters['b'+str(l)] = np.zeros((layer_dims[l],1))\n",
        "    return parameters"
      ],
      "metadata": {
        "id": "juJRSLgT65IQ"
      },
      "execution_count": 7,
      "outputs": []
    },
    {
      "cell_type": "markdown",
      "source": [
        "#Forward propagation"
      ],
      "metadata": {
        "id": "N4LdF9ui65qu"
      }
    },
    {
      "cell_type": "code",
      "source": [
        "\n",
        "def linear_forward(A,W,b):\n",
        "    Z = np.dot(W, A) + b\n",
        "    cache = (A, W , b)\n",
        "    return Z ,cache\n",
        "\n",
        "def linear_activation_forward(A_prev, W, b, activation):\n",
        "    if activation == 'softmax':\n",
        "        Z, linear_cache = linear_forward(A_prev, W, b)\n",
        "        A, activation_cache = softmax(Z)\n",
        "    elif activation == 'relu':\n",
        "        Z, linear_cache = linear_forward(A_prev, W, b)\n",
        "        A, activation_cache = relu(Z)\n",
        "\n",
        "    cache = (linear_cache, activation_cache)\n",
        "    return A, cache\n",
        "\n",
        "def L_model_forward(X, parameters):\n",
        "    caches = []\n",
        "    A = X\n",
        "    L = len(parameters) // 2\n",
        "\n",
        "    for l in range(1, L):\n",
        "        A_prev = A\n",
        "        A, cache = linear_activation_forward(A_prev, parameters['W'+str(l)], parameters['b'+str(l)], 'relu')\n",
        "        caches.append(cache)\n",
        "\n",
        "    AL, cache = linear_activation_forward(A, parameters['W'+str(L)], parameters['b'+str(L)], 'softmax')\n",
        "    caches.append(cache)\n",
        "    return AL, caches"
      ],
      "metadata": {
        "id": "e--cjD1E7BJ8"
      },
      "execution_count": 8,
      "outputs": []
    },
    {
      "cell_type": "markdown",
      "source": [
        "#Cost Function"
      ],
      "metadata": {
        "id": "SuLy2e9Y7Dq5"
      }
    },
    {
      "cell_type": "code",
      "source": [
        "\n",
        "def compute_cost(AL, Y):\n",
        "    m = Y.shape[1]\n",
        "    cost = (-1/m) * np.sum(Y * np.log(AL))\n",
        "    return cost"
      ],
      "metadata": {
        "id": "1Joau_Ry7J5W"
      },
      "execution_count": 9,
      "outputs": []
    },
    {
      "cell_type": "markdown",
      "source": [
        "#Back propagation"
      ],
      "metadata": {
        "id": "9g9mgKHR7hHC"
      }
    },
    {
      "cell_type": "code",
      "source": [
        "def linear_backward(dZ, cache):\n",
        "    A_prev, W, b = cache\n",
        "    m = A_prev.shape[1]\n",
        "\n",
        "    dW = (1/m) * np.dot(dZ, A_prev.T)\n",
        "    db = (1/m) * np.sum(dZ, axis=1, keepdims=True)\n",
        "    dA_prev = np.dot(W.T,dZ)\n",
        "    \n",
        "    return dA_prev, dW, db\n",
        "\n",
        "def linear_activation_backward(dA, cache, activation):\n",
        "    linear_cache, activation_cache = cache\n",
        "    \n",
        "    if activation == \"relu\":\n",
        "        dZ = relu_backward(dA, activation_cache)\n",
        "    elif activation == \"sigmoid\":\n",
        "        dZ = sigmoid_backward(dA, activation_cache)\n",
        "\n",
        "    dA_prev, dW, db = linear_backward(dZ, linear_cache)\n",
        "\n",
        "    return dA_prev, dW, db\n",
        "\n",
        "\n",
        "def L_model_backward(AL, Y, caches):\n",
        "    grads = {}\n",
        "    L = len(caches)\n",
        "    m = AL.shape[1]\n",
        "    # Y = Y.reshape(AL.shape) # after this line, Y is the same shape as AL\n",
        "\n",
        "    # Initializing the backpropagation\n",
        "    current_cache  = caches[L-1]\n",
        "    linear_cache, activation_cache = current_cache\n",
        "    A_prev, W, b = linear_cache\n",
        "    dZL = AL - Y\n",
        "    grads[\"dW\" + str(L)] = (1/m)*np.dot(dZL, A_prev.T)\n",
        "    grads[\"db\" + str(L)] = (1/m)*np.sum(dZL, axis=1, keepdims=True)\n",
        "    grads[\"dA\" + str(L-1)] = np.dot(W.T,dZL)\n",
        "\n",
        "    # Loop from l=L-2 to l=0\n",
        "    for l in reversed(range(L-1)):\n",
        "        current_cache = caches[l]\n",
        "        dA_prev_temp, dW_temp, db_temp = linear_activation_backward(grads[\"dA\" + str(l + 1)], current_cache, activation = \"relu\")\n",
        "        grads[\"dA\" + str(l)] = dA_prev_temp\n",
        "        grads[\"dW\" + str(l + 1)] = dW_temp\n",
        "        grads[\"db\" + str(l + 1)] = db_temp\n",
        "    return grads"
      ],
      "metadata": {
        "id": "fK-elyBv7jyO"
      },
      "execution_count": 10,
      "outputs": []
    },
    {
      "cell_type": "markdown",
      "source": [
        "#Update parameters"
      ],
      "metadata": {
        "id": "3WPu1Dmp7kZO"
      }
    },
    {
      "cell_type": "code",
      "execution_count": 11,
      "metadata": {
        "id": "yDJS463Ixbvd"
      },
      "outputs": [],
      "source": [
        "def update_parameters(parameters, grads, learning_rate):  \n",
        "    L = len(parameters) // 2 # number of layers in the neural network\n",
        "    # Update rule for each parameter. Use a for loop.\n",
        "    for l in range(L):\n",
        "        parameters[\"W\" + str(l+1)] = parameters[\"W\" + str(l+1)] - learning_rate * grads[\"dW\" + str(l+1)]\n",
        "        parameters[\"b\" + str(l+1)] = parameters[\"b\" + str(l+1)] - learning_rate * grads[\"db\" + str(l+1)]\n",
        "    return parameters\n"
      ]
    },
    {
      "cell_type": "markdown",
      "source": [
        "#Train"
      ],
      "metadata": {
        "id": "NZ_vbLht7tYw"
      }
    },
    {
      "cell_type": "code",
      "source": [
        "x_train = x_train.reshape(x_train.shape[0], -1).T /255\n",
        "x_test = x_test.reshape(x_test.shape[0], -1).T   /255"
      ],
      "metadata": {
        "id": "DJ4j8eA56f2b"
      },
      "execution_count": 12,
      "outputs": []
    },
    {
      "cell_type": "code",
      "source": [
        "y_train = np_utils.to_categorical(y_train)"
      ],
      "metadata": {
        "id": "d5NYdvHH-VhV"
      },
      "execution_count": 13,
      "outputs": []
    },
    {
      "cell_type": "code",
      "source": [
        "def L_layer_model(X, Y, layers_dims, learning_rate = 1, num_iterations = 3000, print_cost=False):#lr was 0.009\n",
        "    np.random.seed(1)\n",
        "    costs = []                         # keep track of cost\n",
        "    \n",
        "    parameters = initialize_parameters_deep(layers_dims)\n",
        "    \n",
        "    # Loop (gradient descent)\n",
        "    for i in range(0, num_iterations):\n",
        "        # Forward propagation: [LINEAR -> RELU]*(L-1) -> LINEAR -> SIGMOID.\n",
        "        AL, caches = L_model_forward(X, parameters)\n",
        "        # Compute cost.\n",
        "        cost = compute_cost(AL, Y)\n",
        "        # Backward propagation.\n",
        "        grads = L_model_backward(AL, Y, caches)\n",
        " \n",
        "        # Update parameters.\n",
        "        parameters = update_parameters(parameters, grads, learning_rate)\n",
        "                \n",
        "        # Print the cost every iteration\n",
        "        print(\"Cost after iteration %i: %f\" %(i, cost))\n",
        "        costs.append(cost)\n",
        "            \n",
        "    # plot the cost\n",
        "    plt.plot(np.squeeze(costs))\n",
        "    plt.ylabel('cost')\n",
        "    plt.xlabel('iterations')\n",
        "    plt.title(\"Learning rate =\" + str(learning_rate))\n",
        "    plt.show()\n",
        "    \n",
        "    return parameters"
      ],
      "metadata": {
        "id": "Rwy2_Obj0DRQ"
      },
      "execution_count": 14,
      "outputs": []
    },
    {
      "cell_type": "code",
      "source": [
        "layers_dims=[784,100,10]"
      ],
      "metadata": {
        "id": "1PuLzo3MDVvk"
      },
      "execution_count": 15,
      "outputs": []
    },
    {
      "cell_type": "code",
      "source": [
        "parameters = L_layer_model(x_train, y_train.T, layers_dims, num_iterations = 200, print_cost = True)"
      ],
      "metadata": {
        "colab": {
          "base_uri": "https://localhost:8080/",
          "height": 1000
        },
        "id": "3ujTFGBLDU2V",
        "outputId": "495921f0-2fbb-4252-be20-452f86709fad"
      },
      "execution_count": 16,
      "outputs": [
        {
          "output_type": "stream",
          "name": "stdout",
          "text": [
            "Cost after iteration 0: 2.302725\n",
            "Cost after iteration 1: 2.294084\n",
            "Cost after iteration 2: 2.281996\n",
            "Cost after iteration 3: 2.260023\n",
            "Cost after iteration 4: 2.218793\n",
            "Cost after iteration 5: 2.142189\n",
            "Cost after iteration 6: 2.008007\n",
            "Cost after iteration 7: 1.800652\n",
            "Cost after iteration 8: 1.543060\n",
            "Cost after iteration 9: 1.298345\n",
            "Cost after iteration 10: 1.108248\n",
            "Cost after iteration 11: 0.995796\n",
            "Cost after iteration 12: 1.391910\n",
            "Cost after iteration 13: 4.526564\n",
            "Cost after iteration 14: 2.190753\n",
            "Cost after iteration 15: 1.834944\n",
            "Cost after iteration 16: 1.640420\n",
            "Cost after iteration 17: 1.347168\n",
            "Cost after iteration 18: 1.229836\n",
            "Cost after iteration 19: 1.215802\n",
            "Cost after iteration 20: 1.609251\n",
            "Cost after iteration 21: 1.633024\n",
            "Cost after iteration 22: 1.479023\n",
            "Cost after iteration 23: 1.287599\n",
            "Cost after iteration 24: 1.025637\n",
            "Cost after iteration 25: 0.884359\n",
            "Cost after iteration 26: 0.859488\n",
            "Cost after iteration 27: 1.106945\n",
            "Cost after iteration 28: 0.979226\n",
            "Cost after iteration 29: 0.826069\n",
            "Cost after iteration 30: 0.843985\n",
            "Cost after iteration 31: 1.068118\n",
            "Cost after iteration 32: 1.197489\n",
            "Cost after iteration 33: 1.165031\n",
            "Cost after iteration 34: 0.935947\n",
            "Cost after iteration 35: 0.822524\n",
            "Cost after iteration 36: 0.680978\n",
            "Cost after iteration 37: 0.659114\n",
            "Cost after iteration 38: 0.680999\n",
            "Cost after iteration 39: 0.664731\n",
            "Cost after iteration 40: 0.602217\n",
            "Cost after iteration 41: 0.560494\n",
            "Cost after iteration 42: 0.649679\n",
            "Cost after iteration 43: 0.735338\n",
            "Cost after iteration 44: 0.662110\n",
            "Cost after iteration 45: 0.515703\n",
            "Cost after iteration 46: 0.470093\n",
            "Cost after iteration 47: 0.434143\n",
            "Cost after iteration 48: 0.430522\n",
            "Cost after iteration 49: 0.424726\n",
            "Cost after iteration 50: 0.441035\n",
            "Cost after iteration 51: 0.438042\n",
            "Cost after iteration 52: 0.470756\n",
            "Cost after iteration 53: 0.437255\n",
            "Cost after iteration 54: 0.444223\n",
            "Cost after iteration 55: 0.400734\n",
            "Cost after iteration 56: 0.393317\n",
            "Cost after iteration 57: 0.371231\n",
            "Cost after iteration 58: 0.368134\n",
            "Cost after iteration 59: 0.357524\n",
            "Cost after iteration 60: 0.357450\n",
            "Cost after iteration 61: 0.352896\n",
            "Cost after iteration 62: 0.356136\n",
            "Cost after iteration 63: 0.358276\n",
            "Cost after iteration 64: 0.369763\n",
            "Cost after iteration 65: 0.385200\n",
            "Cost after iteration 66: 0.418959\n",
            "Cost after iteration 67: 0.447859\n",
            "Cost after iteration 68: 0.486179\n",
            "Cost after iteration 69: 0.465028\n",
            "Cost after iteration 70: 0.418615\n",
            "Cost after iteration 71: 0.396384\n",
            "Cost after iteration 72: 0.345542\n",
            "Cost after iteration 73: 0.330057\n",
            "Cost after iteration 74: 0.315476\n",
            "Cost after iteration 75: 0.309922\n",
            "Cost after iteration 76: 0.304517\n",
            "Cost after iteration 77: 0.301701\n",
            "Cost after iteration 78: 0.298347\n",
            "Cost after iteration 79: 0.296487\n",
            "Cost after iteration 80: 0.293891\n",
            "Cost after iteration 81: 0.292621\n",
            "Cost after iteration 82: 0.290443\n",
            "Cost after iteration 83: 0.289689\n",
            "Cost after iteration 84: 0.287819\n",
            "Cost after iteration 85: 0.287718\n",
            "Cost after iteration 86: 0.286039\n",
            "Cost after iteration 87: 0.286859\n",
            "Cost after iteration 88: 0.285271\n",
            "Cost after iteration 89: 0.287411\n",
            "Cost after iteration 90: 0.285569\n",
            "Cost after iteration 91: 0.289528\n",
            "Cost after iteration 92: 0.286740\n",
            "Cost after iteration 93: 0.292556\n",
            "Cost after iteration 94: 0.287768\n",
            "Cost after iteration 95: 0.294479\n",
            "Cost after iteration 96: 0.286376\n",
            "Cost after iteration 97: 0.291519\n",
            "Cost after iteration 98: 0.280728\n",
            "Cost after iteration 99: 0.282660\n",
            "Cost after iteration 100: 0.272767\n",
            "Cost after iteration 101: 0.272462\n",
            "Cost after iteration 102: 0.265691\n",
            "Cost after iteration 103: 0.264522\n",
            "Cost after iteration 104: 0.260285\n",
            "Cost after iteration 105: 0.258948\n",
            "Cost after iteration 106: 0.256108\n",
            "Cost after iteration 107: 0.254801\n",
            "Cost after iteration 108: 0.252699\n",
            "Cost after iteration 109: 0.251482\n",
            "Cost after iteration 110: 0.249818\n",
            "Cost after iteration 111: 0.248671\n",
            "Cost after iteration 112: 0.247241\n",
            "Cost after iteration 113: 0.246160\n",
            "Cost after iteration 114: 0.244885\n",
            "Cost after iteration 115: 0.243857\n",
            "Cost after iteration 116: 0.242694\n",
            "Cost after iteration 117: 0.241714\n",
            "Cost after iteration 118: 0.240627\n",
            "Cost after iteration 119: 0.239700\n",
            "Cost after iteration 120: 0.238685\n",
            "Cost after iteration 121: 0.237815\n",
            "Cost after iteration 122: 0.236859\n",
            "Cost after iteration 123: 0.236050\n",
            "Cost after iteration 124: 0.235148\n",
            "Cost after iteration 125: 0.234411\n",
            "Cost after iteration 126: 0.233562\n",
            "Cost after iteration 127: 0.232909\n",
            "Cost after iteration 128: 0.232119\n",
            "Cost after iteration 129: 0.231574\n",
            "Cost after iteration 130: 0.230843\n",
            "Cost after iteration 131: 0.230463\n",
            "Cost after iteration 132: 0.229803\n",
            "Cost after iteration 133: 0.229671\n",
            "Cost after iteration 134: 0.229095\n",
            "Cost after iteration 135: 0.229326\n",
            "Cost after iteration 136: 0.228868\n",
            "Cost after iteration 137: 0.229635\n",
            "Cost after iteration 138: 0.229273\n",
            "Cost after iteration 139: 0.230822\n",
            "Cost after iteration 140: 0.230463\n",
            "Cost after iteration 141: 0.233195\n",
            "Cost after iteration 142: 0.232663\n",
            "Cost after iteration 143: 0.236915\n",
            "Cost after iteration 144: 0.235586\n",
            "Cost after iteration 145: 0.241480\n",
            "Cost after iteration 146: 0.238190\n",
            "Cost after iteration 147: 0.244817\n",
            "Cost after iteration 148: 0.238024\n",
            "Cost after iteration 149: 0.242834\n",
            "Cost after iteration 150: 0.232927\n",
            "Cost after iteration 151: 0.234066\n",
            "Cost after iteration 152: 0.224805\n",
            "Cost after iteration 153: 0.223578\n",
            "Cost after iteration 154: 0.217892\n",
            "Cost after iteration 155: 0.216389\n",
            "Cost after iteration 156: 0.213455\n",
            "Cost after iteration 157: 0.212230\n",
            "Cost after iteration 158: 0.210630\n",
            "Cost after iteration 159: 0.209668\n",
            "Cost after iteration 160: 0.208591\n",
            "Cost after iteration 161: 0.207792\n",
            "Cost after iteration 162: 0.206967\n",
            "Cost after iteration 163: 0.206261\n",
            "Cost after iteration 164: 0.205570\n",
            "Cost after iteration 165: 0.204926\n",
            "Cost after iteration 166: 0.204326\n",
            "Cost after iteration 167: 0.203739\n",
            "Cost after iteration 168: 0.203210\n",
            "Cost after iteration 169: 0.202676\n",
            "Cost after iteration 170: 0.202221\n",
            "Cost after iteration 171: 0.201735\n",
            "Cost after iteration 172: 0.201366\n",
            "Cost after iteration 173: 0.200946\n",
            "Cost after iteration 174: 0.200695\n",
            "Cost after iteration 175: 0.200344\n",
            "Cost after iteration 176: 0.200251\n",
            "Cost after iteration 177: 0.200008\n",
            "Cost after iteration 178: 0.200136\n",
            "Cost after iteration 179: 0.200027\n",
            "Cost after iteration 180: 0.200479\n",
            "Cost after iteration 181: 0.200519\n",
            "Cost after iteration 182: 0.201448\n",
            "Cost after iteration 183: 0.201621\n",
            "Cost after iteration 184: 0.203113\n",
            "Cost after iteration 185: 0.203316\n",
            "Cost after iteration 186: 0.205466\n",
            "Cost after iteration 187: 0.205352\n",
            "Cost after iteration 188: 0.207972\n",
            "Cost after iteration 189: 0.207149\n",
            "Cost after iteration 190: 0.209638\n",
            "Cost after iteration 191: 0.207225\n",
            "Cost after iteration 192: 0.208282\n",
            "Cost after iteration 193: 0.203989\n",
            "Cost after iteration 194: 0.202896\n",
            "Cost after iteration 195: 0.198084\n",
            "Cost after iteration 196: 0.195952\n",
            "Cost after iteration 197: 0.192423\n",
            "Cost after iteration 198: 0.190598\n",
            "Cost after iteration 199: 0.188611\n"
          ]
        },
        {
          "output_type": "display_data",
          "data": {
            "image/png": "[encoded data removed]",
            "text/plain": [
              "<Figure size 432x288 with 1 Axes>"
            ]
          },
          "metadata": {
            "needs_background": "light"
          }
        }
      ]
    },
    {
      "cell_type": "markdown",
      "source": [
        "#Predict and Evaluation"
      ],
      "metadata": {
        "id": "VRSjrJYUa5Zm"
      }
    },
    {
      "cell_type": "code",
      "source": [
        "def predict(X, y, parameters):   \n",
        "    m = X.shape[1]\n",
        "    n = len(parameters) // 2 # number of layers in the neural network\n",
        "    p = np.zeros((1,m))\n",
        "    \n",
        "    # Forward propagation\n",
        "    probas, caches = L_model_forward(X, parameters)\n",
        "\n",
        "    predicted = np.argmax(probas, axis=0)\n",
        "\n",
        "    print(\"Accuracy: \"  + str(np.sum((predicted == y)/m)))\n",
        "\n",
        "    return predicted, probas"
      ],
      "metadata": {
        "id": "YDmegk_CGjAO"
      },
      "execution_count": 17,
      "outputs": []
    },
    {
      "cell_type": "code",
      "source": [
        "predicted, probas = predict(x_test, y_test, parameters)"
      ],
      "metadata": {
        "colab": {
          "base_uri": "https://localhost:8080/"
        },
        "id": "JYNrb9x8Iy2t",
        "outputId": "4d7b593b-1297-4371-e03a-2d6ad1adfb22"
      },
      "execution_count": 18,
      "outputs": [
        {
          "output_type": "stream",
          "name": "stdout",
          "text": [
            "Accuracy: 0.9468000000000003\n"
          ]
        }
      ]
    },
    {
      "cell_type": "code",
      "source": [
        "print(confusion_matrix(predicted, y_test),'\\n')\n",
        "print(classification_report(predicted, y_test))"
      ],
      "metadata": {
        "colab": {
          "base_uri": "https://localhost:8080/"
        },
        "id": "G4UilZ5WpGh-",
        "outputId": "5e6e5313-9da0-4666-c2f7-753b618c67b5"
      },
      "execution_count": 19,
      "outputs": [
        {
          "output_type": "stream",
          "name": "stdout",
          "text": [
            "[[ 965    0    8    0    1   10    7    0    6   10]\n",
            " [   0 1111    2    0    1    1    3    7    6    8]\n",
            " [   1    3  969   18    5    0    2   23    5    2]\n",
            " [   1    2    8  946    0   24    1    5   15   14]\n",
            " [   0    1    6    0  932    4    9    5    6   37]\n",
            " [   5    0    0   23    1  828    7    1    7    5]\n",
            " [   6    3   13    1   13   12  926    0   13    1]\n",
            " [   1    2   10   12    4    1    1  971    9   13]\n",
            " [   1   13   14    8    3    9    2    2  904    3]\n",
            " [   0    0    2    2   22    3    0   14    3  916]] \n",
            "\n",
            "              precision    recall  f1-score   support\n",
            "\n",
            "           0       0.98      0.96      0.97      1007\n",
            "           1       0.98      0.98      0.98      1139\n",
            "           2       0.94      0.94      0.94      1028\n",
            "           3       0.94      0.93      0.93      1016\n",
            "           4       0.95      0.93      0.94      1000\n",
            "           5       0.93      0.94      0.94       877\n",
            "           6       0.97      0.94      0.95       988\n",
            "           7       0.94      0.95      0.95      1024\n",
            "           8       0.93      0.94      0.94       959\n",
            "           9       0.91      0.95      0.93       962\n",
            "\n",
            "    accuracy                           0.95     10000\n",
            "   macro avg       0.95      0.95      0.95     10000\n",
            "weighted avg       0.95      0.95      0.95     10000\n",
            "\n"
          ]
        }
      ]
    }
  ]
}